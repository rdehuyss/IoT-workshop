{
 "cells": [
  {
   "cell_type": "markdown",
   "metadata": {},
   "source": [
    "# IoT Workshop\n",
    "\n",
    "Welcome to this IoT workshop and congratulations, you almost have all the prerequisites for this workshop up & running.\n",
    "\n",
    "First steps to do now is making sure that we can use the ESP32 from this notebook. To do so, we must connect this Jupyter Notebook to the ESP32 using the `%serialconnect to --port=COM3 --baud=115200` command. Off course, you will need to find the right serial port.\n",
    "\n",
    "- For windows:\n",
    "  - make sure you have installed the CH341 driver which is a USB-to-UART bridge driver\n",
    "  - plugin the ESP32 in a USB port\n",
    "  - go the Windows Device Manager and find the relevant COM Port\n",
    "- For linux (the happy few):\n",
    "  - plugin the ESP32 in a USB port\n",
    "  - open a terminal and do a `ls -l /dev/tty*` and search for something like /dev/ttyUSB0\n",
    "  \n",
    "Next, in the cell below run the serialconnect command as mentioned above.  "
   ]
  },
  {
   "cell_type": "code",
   "execution_count": null,
   "metadata": {},
   "outputs": [],
   "source": []
  },
  {
   "cell_type": "markdown",
   "metadata": {},
   "source": [
    "But wait, what is this? This is a Jupyter notebook, an interactive environment for writing, running and testing code. This notebook is associated with the MicroPython kernel, therefor it runs MicroPython code on an embedded device.\n",
    "\n",
    "Code cells allow you to enter and run code\n",
    "Run a code cell using `Shift-Enter` or pressing the *Run* button in the toolbar above:\n",
    "\n",
    "With that behind us, the fun part can start...\n",
    "\n",
    "\n",
    "## What is MicroPython?\n",
    "MicroPython is a tiny open source Python programming language interpretor that runs on small embedded\n",
    "development boards. With MicroPython you can write clean and simple Python code to control hardware instead of\n",
    "having to use complex low-level languages like C or C++ (what Arduino uses for programming).\n",
    "\n",
    "The simplicity of the Python programming language makes MicroPython an excellent choice for beginners who are\n",
    "new to programming and hardware. However MicroPython is also quite full-featured and supports most of Python's\n",
    "syntax so even seasoned Python veterans will find MicroPython familiar and fun to use.\n",
    "\n",
    "Beyond its ease of use MicroPython has some unique features that set it apart from other embedded systems:\n",
    "- Interactive REPL, or read-evaluate-print loop. This allows you to connect to a board and have it execute code\n",
    "without any need for compiling or uploading--perfect for quickly learning and experimenting with hardware!\n",
    "- Extensive software library. Like the normal Python programming langauge MicroPython is 'batteries included'\n",
    "and has libraries built in to support many tasks. For example parsing JSON data from a web service,\n",
    "searching text with a regular expression, or even doing network socket programming is easy with built-in\n",
    "libraries for MicroPython.\n",
    "- Extensibility. For advanced users MicroPython is extensible with low-level C/C++ functions so you can mix expressive high-level MicroPython code with faster low-level code when you need it.\n",
    "\n",
    "\n",
    "## What hardware supports MicroPython?\n",
    "Be sure to check the MicroPython website to see the latest information on supported boards. As of August 2016\n",
    "these boards support MicroPython in various ways:\n",
    "- **pyboard:**\n",
    "This is the first MicroPython board and has very complete support for the language and hardware\n",
    "peripherals. This board comes to you with MicroPython running on it so you can get started using it\n",
    "immediately without any setup. Check out the pyboard documentation for more details on its\n",
    "capabilities.\n",
    "- **ESP8266 & ESP32:**\n",
    "MicroPython support for the popular ESP8266 WiFi microcontroller is excellent. With MicroPython on\n",
    "ESP8266 you can access peripherals like GPIO, ADC, PWM, and I2C/SPI devices. In addition WiFi &\n",
    "internet access is available and well supported. There's even a web-based REPL that allows you to run\n",
    "MicroPython code on the ESP8266 through your web browser! Check out the ESP8266 MicroPython\n",
    "documentation and the MicroPython ESP8266 FAQ forum page for more information. If you're looking\n",
    "for an inexpensive and easy board to start with MicroPython the ESP8266 is a great option.\n",
    "- **SAMD21-based Boards:**\n",
    "Atmel SAMD21-based boards like the Feather M0 and Arduino Zero can use CircuitPython, Adafruit's\n",
    "open source derivative of MicroPython. See the Metro M0 Express guide for more information\n",
    "- **WiPy:**\n",
    "The WiPy is another MicroPython board with WiFi and great support. Pycom is the company behind the\n",
    "WiPy board and they provide a nice integrated development environment to load and run MicroPython\n",
    "code on their boards. Be sure to see the WiPy page on Pycom's website for more information about the\n",
    "board's capabilities, in particular note the board currently doesn't support floating point calculations.\n",
    "- **BBC micro:bit:**\n",
    "The BBC micro:bit has great support for MicroPython and a very nice set of tools to write and upload\n",
    "code. With MicroPython on the micro:bit you can access the board's onboard peripherals including its\n",
    "LEDs, accelerometer, GPIO, radio, and more. Check out the official micro:bit MicroPython\n",
    "documentation for more details.\n",
    "- **And a lot more**"
   ]
  },
  {
   "cell_type": "markdown",
   "metadata": {},
   "source": [
    "# Let's get started!!\n",
    "\n",
    "## The basics\n",
    "\n",
    "First thing to do is to get us acquainted with the REPL. Try running the following code:\n",
    "`print(3+4)`"
   ]
  },
  {
   "cell_type": "code",
   "execution_count": null,
   "metadata": {},
   "outputs": [],
   "source": []
  },
  {
   "cell_type": "markdown",
   "metadata": {},
   "source": [
    "Wauw! We have command line access to a microcontroller. This is huge! Let's try some other stuff. Run the following code:\n",
    "```\n",
    "a = 5\n",
    "b = 3\n",
    "\n",
    "print(a + b)\n",
    "```\n"
   ]
  },
  {
   "cell_type": "code",
   "execution_count": null,
   "metadata": {},
   "outputs": [],
   "source": []
  },
  {
   "cell_type": "markdown",
   "metadata": {},
   "source": [
    "So, we even have variables, functions, ... It is all the stuff we expect from a high-level language like Java and .NET. Get yourself more acquainted with the REPL and test some other commands you can come up with."
   ]
  },
  {
   "cell_type": "code",
   "execution_count": null,
   "metadata": {},
   "outputs": [],
   "source": []
  },
  {
   "cell_type": "markdown",
   "metadata": {},
   "source": [
    "Now let's get down to the hardware.\n",
    "\n",
    "Run the following code:\n",
    "```python\n",
    "import machine\n",
    "help(machine)\n",
    "```\n",
    "\n",
    "This describes how we can access all hardware. "
   ]
  },
  {
   "cell_type": "code",
   "execution_count": null,
   "metadata": {},
   "outputs": [],
   "source": []
  },
  {
   "cell_type": "markdown",
   "metadata": {},
   "source": [
    "Now, let's turn on a led! The Wemos D32 Pro has a built-in led which we can use for that. It's pin 5.\n",
    "\n",
    "Run the following code:\n",
    "\n",
    "```python\n",
    "led = machine.Pin(5, machine.Pin.OUT)\n",
    "led.value(1) \n",
    "led.value(0)\n",
    "# watch the led go on or off\n",
    "\n",
    "# we can also query the value of the pin\n",
    "led.value()\n",
    "```\n"
   ]
  },
  {
   "cell_type": "code",
   "execution_count": null,
   "metadata": {},
   "outputs": [],
   "source": []
  },
  {
   "cell_type": "markdown",
   "metadata": {},
   "source": [
    "The documentation of micropython on the ESP32 can be found here: https://docs.micropython.org/en/latest/esp8266/index.html"
   ]
  },
  {
   "cell_type": "markdown",
   "metadata": {},
   "source": [
    "# Let's create some classes\n",
    "We can also create real classes.\n",
    "\n",
    "A class in (Micro)Python is more concise than in other languages and is indention-based.\n",
    "\n",
    "An example of a simple class:\n",
    "```Python\n",
    "class HelloWorldPrinter:\n",
    "    def print_hello_world(self):\n",
    "        print('Hello world!')\n",
    "        \n",
    "```\n",
    "&nbsp;\n",
    "&nbsp;\n",
    "\n",
    "Try to create a calculator class which can add, subtract, mulitply and divide. Remember, this is all happening on the microcontroller..."
   ]
  },
  {
   "cell_type": "code",
   "execution_count": null,
   "metadata": {},
   "outputs": [],
   "source": []
  },
  {
   "cell_type": "markdown",
   "metadata": {},
   "source": [
    "# Time for some sensors!\n",
    "\n",
    "MicroPython has built-in support for a bunch of sensors, including the DHT11 and DHT22 which are temperature and humidity sensors. They feature a chip that handles analog to digital conversion and provide a 1-wire interface. Newer sensors additionally provide an I2C interface.\n",
    "\n",
    "**Pin configurations:**\n",
    "\n",
    "1=VDD, 2=Data, 3=NC, 4=GND\n",
    "\n",
    "How to use this sensor? http://lmgtfy.com/?q=micropython+esp32+dht"
   ]
  },
  {
   "cell_type": "code",
   "execution_count": null,
   "metadata": {},
   "outputs": [],
   "source": []
  }
 ],
 "metadata": {
  "kernelspec": {
   "display_name": "MicroPython - USB",
   "language": "micropython",
   "name": "micropython"
  },
  "language_info": {
   "codemirror_mode": "python",
   "file_extension": ".py",
   "mimetype": "text/python",
   "name": "micropython"
  }
 },
 "nbformat": 4,
 "nbformat_minor": 2
}
